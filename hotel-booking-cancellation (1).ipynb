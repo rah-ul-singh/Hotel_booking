{
 "cells": [
  {
   "cell_type": "markdown",
   "id": "pressing-alloy",
   "metadata": {
    "papermill": {
     "duration": 0.061641,
     "end_time": "2021-05-17T21:19:09.607019",
     "exception": false,
     "start_time": "2021-05-17T21:19:09.545378",
     "status": "completed"
    },
    "tags": []
   },
   "source": [
    "# Importing Libraries"
   ]
  },
  {
   "cell_type": "code",
   "execution_count": null,
   "id": "electoral-guide",
   "metadata": {
    "execution": {
     "iopub.execute_input": "2021-05-17T21:19:09.735785Z",
     "iopub.status.busy": "2021-05-17T21:19:09.734566Z",
     "iopub.status.idle": "2021-05-17T21:19:11.149320Z",
     "shell.execute_reply": "2021-05-17T21:19:11.149881Z"
    },
    "papermill": {
     "duration": 1.480998,
     "end_time": "2021-05-17T21:19:11.150194",
     "exception": false,
     "start_time": "2021-05-17T21:19:09.669196",
     "status": "completed"
    },
    "tags": []
   },
   "outputs": [],
   "source": [
    "import numpy as np \n",
    "import pandas as pd\n",
    "import matplotlib.pyplot as plt\n",
    "import seaborn as sns\n",
    "\n",
    "import os\n",
    "\n",
    "from sklearn.metrics import accuracy_score, confusion_matrix, roc_curve, roc_auc_score, auc\n",
    "from sklearn.model_selection import train_test_split, cross_val_score, GridSearchCV\n",
    "from sklearn.preprocessing import LabelEncoder, StandardScaler \n",
    "from sklearn.linear_model import LogisticRegression\n",
    "from sklearn.neighbors import KNeighborsClassifier\n",
    "from sklearn.svm import SVC\n",
    "from sklearn.ensemble import RandomForestClassifier\n",
    "from xgboost import XGBClassifier\n",
    "\n",
    "import warnings\n",
    "warnings.filterwarnings(\"ignore\")"
   ]
  },
  {
   "cell_type": "code",
   "execution_count": null,
   "id": "incomplete-holiday",
   "metadata": {
    "execution": {
     "iopub.execute_input": "2021-05-17T21:19:11.278765Z",
     "iopub.status.busy": "2021-05-17T21:19:11.278130Z",
     "iopub.status.idle": "2021-05-17T21:19:11.295231Z",
     "shell.execute_reply": "2021-05-17T21:19:11.294671Z"
    },
    "papermill": {
     "duration": 0.082797,
     "end_time": "2021-05-17T21:19:11.295384",
     "exception": false,
     "start_time": "2021-05-17T21:19:11.212587",
     "status": "completed"
    },
    "tags": []
   },
   "outputs": [],
   "source": [
    "# Graphics in retina format are more sharp and legible\n",
    "%config InlineBackend.figure_format = 'retina'"
   ]
  },
  {
   "cell_type": "code",
   "execution_count": null,
   "id": "molecular-bibliography",
   "metadata": {
    "execution": {
     "iopub.execute_input": "2021-05-17T21:19:11.425525Z",
     "iopub.status.busy": "2021-05-17T21:19:11.424876Z",
     "iopub.status.idle": "2021-05-17T21:19:11.434410Z",
     "shell.execute_reply": "2021-05-17T21:19:11.434856Z"
    },
    "papermill": {
     "duration": 0.07692,
     "end_time": "2021-05-17T21:19:11.435029",
     "exception": false,
     "start_time": "2021-05-17T21:19:11.358109",
     "status": "completed"
    },
    "tags": []
   },
   "outputs": [],
   "source": [
    "for dirname, _, filenames in os.walk('/kaggle/input'):\n",
    "    for filename in filenames:\n",
    "        print(os.path.join(dirname, filename))"
   ]
  },
  {
   "cell_type": "code",
   "execution_count": null,
   "id": "choice-involvement",
   "metadata": {
    "execution": {
     "iopub.execute_input": "2021-05-17T21:19:11.564986Z",
     "iopub.status.busy": "2021-05-17T21:19:11.564341Z",
     "iopub.status.idle": "2021-05-17T21:19:12.216828Z",
     "shell.execute_reply": "2021-05-17T21:19:12.216145Z"
    },
    "papermill": {
     "duration": 0.718287,
     "end_time": "2021-05-17T21:19:12.216965",
     "exception": false,
     "start_time": "2021-05-17T21:19:11.498678",
     "status": "completed"
    },
    "tags": []
   },
   "outputs": [],
   "source": [
    "#Reading the data\n",
    "df = pd.read_csv('/kaggle/input/hotel-booking-demand/hotel_bookings.csv')"
   ]
  },
  {
   "cell_type": "code",
   "execution_count": null,
   "id": "saving-mechanism",
   "metadata": {
    "execution": {
     "iopub.execute_input": "2021-05-17T21:19:12.355787Z",
     "iopub.status.busy": "2021-05-17T21:19:12.355084Z",
     "iopub.status.idle": "2021-05-17T21:19:12.391008Z",
     "shell.execute_reply": "2021-05-17T21:19:12.391534Z"
    },
    "papermill": {
     "duration": 0.110769,
     "end_time": "2021-05-17T21:19:12.391713",
     "exception": false,
     "start_time": "2021-05-17T21:19:12.280944",
     "status": "completed"
    },
    "tags": []
   },
   "outputs": [],
   "source": [
    "pd.set_option('display.max_columns', None)\n",
    "df.head()"
   ]
  },
  {
   "cell_type": "code",
   "execution_count": null,
   "id": "subtle-creek",
   "metadata": {
    "execution": {
     "iopub.execute_input": "2021-05-17T21:19:12.525470Z",
     "iopub.status.busy": "2021-05-17T21:19:12.524839Z",
     "iopub.status.idle": "2021-05-17T21:19:12.529567Z",
     "shell.execute_reply": "2021-05-17T21:19:12.529022Z"
    },
    "papermill": {
     "duration": 0.073287,
     "end_time": "2021-05-17T21:19:12.529709",
     "exception": false,
     "start_time": "2021-05-17T21:19:12.456422",
     "status": "completed"
    },
    "tags": []
   },
   "outputs": [],
   "source": [
    "df.shape"
   ]
  },
  {
   "cell_type": "code",
   "execution_count": null,
   "id": "signed-bradford",
   "metadata": {
    "execution": {
     "iopub.execute_input": "2021-05-17T21:19:12.662292Z",
     "iopub.status.busy": "2021-05-17T21:19:12.661670Z",
     "iopub.status.idle": "2021-05-17T21:19:12.817322Z",
     "shell.execute_reply": "2021-05-17T21:19:12.816818Z"
    },
    "papermill": {
     "duration": 0.223374,
     "end_time": "2021-05-17T21:19:12.817491",
     "exception": false,
     "start_time": "2021-05-17T21:19:12.594117",
     "status": "completed"
    },
    "tags": []
   },
   "outputs": [],
   "source": [
    "df.info()"
   ]
  },
  {
   "cell_type": "markdown",
   "id": "electrical-weight",
   "metadata": {
    "papermill": {
     "duration": 0.064877,
     "end_time": "2021-05-17T21:19:12.946673",
     "exception": false,
     "start_time": "2021-05-17T21:19:12.881796",
     "status": "completed"
    },
    "tags": []
   },
   "source": [
    "There are 32 columns. \n",
    "* 12 Categorical\n",
    "* 20 Numerical\n",
    "\n",
    "There are 4 columns with the missing values-\n",
    "1. country\n",
    "2. agent\n",
    "3. company\n",
    "4. children\n",
    "\n",
    "Lets try to study each features first and then we shall deal with these missing columns."
   ]
  },
  {
   "cell_type": "code",
   "execution_count": null,
   "id": "smoking-peripheral",
   "metadata": {
    "execution": {
     "iopub.execute_input": "2021-05-17T21:19:13.089251Z",
     "iopub.status.busy": "2021-05-17T21:19:13.088559Z",
     "iopub.status.idle": "2021-05-17T21:19:13.128966Z",
     "shell.execute_reply": "2021-05-17T21:19:13.128391Z"
    },
    "papermill": {
     "duration": 0.116788,
     "end_time": "2021-05-17T21:19:13.129141",
     "exception": false,
     "start_time": "2021-05-17T21:19:13.012353",
     "status": "completed"
    },
    "tags": []
   },
   "outputs": [],
   "source": [
    "#Converting this date tiem column to its correct type otherwise it shall be counted in categorical features and mess with the visualisations\n",
    "df['reservation_status_date'] = df['reservation_status_date'].astype('datetime64')"
   ]
  },
  {
   "cell_type": "code",
   "execution_count": null,
   "id": "historical-kansas",
   "metadata": {
    "execution": {
     "iopub.execute_input": "2021-05-17T21:19:13.273219Z",
     "iopub.status.busy": "2021-05-17T21:19:13.272494Z",
     "iopub.status.idle": "2021-05-17T21:19:13.275552Z",
     "shell.execute_reply": "2021-05-17T21:19:13.274983Z"
    },
    "papermill": {
     "duration": 0.08134,
     "end_time": "2021-05-17T21:19:13.275695",
     "exception": false,
     "start_time": "2021-05-17T21:19:13.194355",
     "status": "completed"
    },
    "tags": []
   },
   "outputs": [],
   "source": [
    "#Separating categorical columns in a list for the ease of visualising charts for categorical variables\n",
    "categoricals = [i for i in df.columns if df.dtypes[i] == 'object']\n",
    "#Separating numerical columns in a list for the ease of visualising charts for numerical variables\n",
    "numericals = [i for i in df.columns if df.dtypes[i] != 'object']\n"
   ]
  },
  {
   "cell_type": "code",
   "execution_count": null,
   "id": "grateful-hayes",
   "metadata": {
    "execution": {
     "iopub.execute_input": "2021-05-17T21:19:13.412195Z",
     "iopub.status.busy": "2021-05-17T21:19:13.411427Z",
     "iopub.status.idle": "2021-05-17T21:19:13.419317Z",
     "shell.execute_reply": "2021-05-17T21:19:13.419813Z"
    },
    "papermill": {
     "duration": 0.079019,
     "end_time": "2021-05-17T21:19:13.419979",
     "exception": false,
     "start_time": "2021-05-17T21:19:13.340960",
     "status": "completed"
    },
    "tags": []
   },
   "outputs": [],
   "source": [
    "print(\"Categorical Columns are: \", *categoricals, sep = '\\n')\n",
    "print(\"\\n\")\n",
    "print(\"\\n\")\n",
    "print(\"Numerical Columns are: \", *numericals, sep = '\\n')"
   ]
  },
  {
   "cell_type": "code",
   "execution_count": null,
   "id": "absolute-sally",
   "metadata": {
    "execution": {
     "iopub.execute_input": "2021-05-17T21:19:13.565805Z",
     "iopub.status.busy": "2021-05-17T21:19:13.564898Z",
     "iopub.status.idle": "2021-05-17T21:19:13.876140Z",
     "shell.execute_reply": "2021-05-17T21:19:13.875598Z"
    },
    "papermill": {
     "duration": 0.390311,
     "end_time": "2021-05-17T21:19:13.876290",
     "exception": false,
     "start_time": "2021-05-17T21:19:13.485979",
     "status": "completed"
    },
    "tags": []
   },
   "outputs": [],
   "source": [
    "#Visualising categories of the Categorical columns\n",
    "for i in categoricals:\n",
    "    print((\"{} : {} Total nunique = {} \\n\").format(i, df[i].unique(), df[i].nunique()))"
   ]
  },
  {
   "cell_type": "markdown",
   "id": "acquired-encoding",
   "metadata": {
    "papermill": {
     "duration": 0.066618,
     "end_time": "2021-05-17T21:19:14.010256",
     "exception": false,
     "start_time": "2021-05-17T21:19:13.943638",
     "status": "completed"
    },
    "tags": []
   },
   "source": [
    "* **Given the categories, we can understand the different possible categoreis for each feature.**\n",
    "* **Some of them are intuitive like hotels, months, countries while some of them are not like meals.**\n",
    "* **A few things are not also clear like what's room labels and what are different distribution channel for and market segment of what?**\n",
    "* **Who defined them and how are we getting that data?**"
   ]
  },
  {
   "cell_type": "code",
   "execution_count": null,
   "id": "experienced-massage",
   "metadata": {
    "execution": {
     "iopub.execute_input": "2021-05-17T21:19:14.152502Z",
     "iopub.status.busy": "2021-05-17T21:19:14.151457Z",
     "iopub.status.idle": "2021-05-17T21:19:14.291964Z",
     "shell.execute_reply": "2021-05-17T21:19:14.291350Z"
    },
    "papermill": {
     "duration": 0.212514,
     "end_time": "2021-05-17T21:19:14.292114",
     "exception": false,
     "start_time": "2021-05-17T21:19:14.079600",
     "status": "completed"
    },
    "tags": []
   },
   "outputs": [],
   "source": [
    "#Lets check the summary statistics of the numerical columns first to spot fisrt hand discrepancy in data \n",
    "df.describe()"
   ]
  },
  {
   "cell_type": "markdown",
   "id": "opposite-affect",
   "metadata": {
    "papermill": {
     "duration": 0.069187,
     "end_time": "2021-05-17T21:19:14.429842",
     "exception": false,
     "start_time": "2021-05-17T21:19:14.360655",
     "status": "completed"
    },
    "tags": []
   },
   "source": [
    "# Quick observations\n",
    "* 37 % of the people have cancelled their booking as per the dataset.\n",
    "* Avg. lead time is 104 days, around 3.5 months.\n",
    "* Each booking has on an average 1.8 adults and 0.1 children. \n",
    "* Only  3% of the guests are repeated.\n",
    "* Median lead time is 69 days. \n",
    "\n",
    "### Lets try to observe all these features and try to relate them to cancellation\n"
   ]
  },
  {
   "cell_type": "code",
   "execution_count": null,
   "id": "affecting-combining",
   "metadata": {
    "execution": {
     "iopub.execute_input": "2021-05-17T21:19:14.572749Z",
     "iopub.status.busy": "2021-05-17T21:19:14.572034Z",
     "iopub.status.idle": "2021-05-17T21:19:14.576446Z",
     "shell.execute_reply": "2021-05-17T21:19:14.575913Z"
    },
    "papermill": {
     "duration": 0.078995,
     "end_time": "2021-05-17T21:19:14.576591",
     "exception": false,
     "start_time": "2021-05-17T21:19:14.497596",
     "status": "completed"
    },
    "tags": []
   },
   "outputs": [],
   "source": [
    "#The color palette we shall be using. Although this is not the best one for this dataset but I am using it here. Will cahnge later\n",
    "\n",
    "sns.color_palette(\"Set2\", 8)"
   ]
  },
  {
   "cell_type": "code",
   "execution_count": null,
   "id": "portuguese-generator",
   "metadata": {
    "execution": {
     "iopub.execute_input": "2021-05-17T21:19:14.743745Z",
     "iopub.status.busy": "2021-05-17T21:19:14.737676Z",
     "iopub.status.idle": "2021-05-17T21:19:15.098734Z",
     "shell.execute_reply": "2021-05-17T21:19:15.098226Z"
    },
    "papermill": {
     "duration": 0.453449,
     "end_time": "2021-05-17T21:19:15.098946",
     "exception": false,
     "start_time": "2021-05-17T21:19:14.645497",
     "status": "completed"
    },
    "tags": []
   },
   "outputs": [],
   "source": [
    "sns.set_palette('Set2')\n",
    "plt.figure(figsize = (8,6))\n",
    "sns.countplot(x = 'hotel', data = df, hue = 'is_canceled')\n",
    "plt.title(\"No. of bookings according to reservation status in both of the hotels\")\n",
    "plt.show()"
   ]
  },
  {
   "cell_type": "markdown",
   "id": "civilian-transcript",
   "metadata": {
    "papermill": {
     "duration": 0.069103,
     "end_time": "2021-05-17T21:19:15.239119",
     "exception": false,
     "start_time": "2021-05-17T21:19:15.170016",
     "status": "completed"
    },
    "tags": []
   },
   "source": [
    "* City hotel has high Cancellation rate than Resort Hotel.\n",
    "* Around 30% for resort hotel and greater than 50 % for city  hotel.\n",
    "\n",
    "* Well this might have many reasons - \n",
    "1. Might be the group that is highly likely to cancel booking dont prefer resort hotel.\n",
    "2. It might have strict booking cancellation policy.\n"
   ]
  },
  {
   "cell_type": "code",
   "execution_count": null,
   "id": "quality-psychiatry",
   "metadata": {
    "execution": {
     "iopub.execute_input": "2021-05-17T21:19:15.392092Z",
     "iopub.status.busy": "2021-05-17T21:19:15.391434Z",
     "iopub.status.idle": "2021-05-17T21:19:15.407840Z",
     "shell.execute_reply": "2021-05-17T21:19:15.407210Z"
    },
    "papermill": {
     "duration": 0.098014,
     "end_time": "2021-05-17T21:19:15.407978",
     "exception": false,
     "start_time": "2021-05-17T21:19:15.309964",
     "status": "completed"
    },
    "tags": []
   },
   "outputs": [],
   "source": [
    "df.groupby(['hotel'])['is_canceled'].value_counts()"
   ]
  },
  {
   "cell_type": "code",
   "execution_count": null,
   "id": "defensive-observation",
   "metadata": {
    "execution": {
     "iopub.execute_input": "2021-05-17T21:19:15.555698Z",
     "iopub.status.busy": "2021-05-17T21:19:15.553826Z",
     "iopub.status.idle": "2021-05-17T21:19:15.570614Z",
     "shell.execute_reply": "2021-05-17T21:19:15.570127Z"
    },
    "papermill": {
     "duration": 0.091298,
     "end_time": "2021-05-17T21:19:15.570760",
     "exception": false,
     "start_time": "2021-05-17T21:19:15.479462",
     "status": "completed"
    },
    "tags": []
   },
   "outputs": [],
   "source": [
    "df.groupby(['hotel'])['is_canceled'].mean()"
   ]
  },
  {
   "cell_type": "markdown",
   "id": "loaded-apple",
   "metadata": {
    "papermill": {
     "duration": 0.070061,
     "end_time": "2021-05-17T21:19:15.711266",
     "exception": false,
     "start_time": "2021-05-17T21:19:15.641205",
     "status": "completed"
    },
    "tags": []
   },
   "source": [
    "* That's a quite high booking cancellation rate.\n",
    "* It would be great if we are able to find the cause for it as well. "
   ]
  },
  {
   "cell_type": "markdown",
   "id": "everyday-minute",
   "metadata": {
    "papermill": {
     "duration": 0.069964,
     "end_time": "2021-05-17T21:19:15.851438",
     "exception": false,
     "start_time": "2021-05-17T21:19:15.781474",
     "status": "completed"
    },
    "tags": []
   },
   "source": [
    "# Market Segment"
   ]
  },
  {
   "cell_type": "code",
   "execution_count": null,
   "id": "consistent-darwin",
   "metadata": {
    "execution": {
     "iopub.execute_input": "2021-05-17T21:19:16.058950Z",
     "iopub.status.busy": "2021-05-17T21:19:16.040837Z",
     "iopub.status.idle": "2021-05-17T21:19:16.797713Z",
     "shell.execute_reply": "2021-05-17T21:19:16.797038Z"
    },
    "papermill": {
     "duration": 0.875687,
     "end_time": "2021-05-17T21:19:16.797851",
     "exception": false,
     "start_time": "2021-05-17T21:19:15.922164",
     "status": "completed"
    },
    "tags": []
   },
   "outputs": [],
   "source": [
    "_, ax = plt.subplots( nrows = 2, ncols = 1, figsize = (10,10))\n",
    "sns.countplot(x = 'market_segment', data = df, ax = ax[0])\n",
    "sns.countplot(x = 'market_segment', data = df, hue = 'is_canceled', ax = ax[1])\n",
    "plt.show()"
   ]
  },
  {
   "cell_type": "markdown",
   "id": "comic-british",
   "metadata": {
    "papermill": {
     "duration": 0.073604,
     "end_time": "2021-05-17T21:19:16.944182",
     "exception": false,
     "start_time": "2021-05-17T21:19:16.870578",
     "status": "completed"
    },
    "tags": []
   },
   "source": [
    "* The chart shows the no. of bookings by different market segment as per the reservation status.\n",
    "> Online TA -> Offline TA -> Groups -> Direct -> Corporate \n",
    "* Descending order of No. of bookings.\n",
    "* Online TA, Offline TA and groups tend to have high cancellation rates. "
   ]
  },
  {
   "cell_type": "markdown",
   "id": "cleared-index",
   "metadata": {
    "papermill": {
     "duration": 0.073663,
     "end_time": "2021-05-17T21:19:17.092341",
     "exception": false,
     "start_time": "2021-05-17T21:19:17.018678",
     "status": "completed"
    },
    "tags": []
   },
   "source": [
    "# Customer Type"
   ]
  },
  {
   "cell_type": "code",
   "execution_count": null,
   "id": "israeli-syria",
   "metadata": {
    "execution": {
     "iopub.execute_input": "2021-05-17T21:19:17.302640Z",
     "iopub.status.busy": "2021-05-17T21:19:17.288097Z",
     "iopub.status.idle": "2021-05-17T21:19:17.845112Z",
     "shell.execute_reply": "2021-05-17T21:19:17.845567Z"
    },
    "papermill": {
     "duration": 0.676276,
     "end_time": "2021-05-17T21:19:17.845738",
     "exception": false,
     "start_time": "2021-05-17T21:19:17.169462",
     "status": "completed"
    },
    "tags": []
   },
   "outputs": [],
   "source": [
    "_, ax = plt.subplots( nrows = 1, ncols = 2, figsize = (12,5))\n",
    "sns.countplot(x = 'customer_type', data = df, ax = ax[0])\n",
    "sns.countplot(x = 'customer_type', data = df, hue = 'is_canceled', ax = ax[1])\n",
    "plt.show()"
   ]
  },
  {
   "cell_type": "markdown",
   "id": "identical-newman",
   "metadata": {
    "papermill": {
     "duration": 0.074259,
     "end_time": "2021-05-17T21:19:17.994829",
     "exception": false,
     "start_time": "2021-05-17T21:19:17.920570",
     "status": "completed"
    },
    "tags": []
   },
   "source": [
    "* The plots show the count of bookings by different customer type and their reservation status.\n",
    "1. Transient > Transient-Party > Contract > Group.\n",
    "> Same order for no. of bookings and cancellation rate in descending order"
   ]
  },
  {
   "cell_type": "code",
   "execution_count": null,
   "id": "piano-positive",
   "metadata": {
    "execution": {
     "iopub.execute_input": "2021-05-17T21:19:18.191717Z",
     "iopub.status.busy": "2021-05-17T21:19:18.179808Z",
     "iopub.status.idle": "2021-05-17T21:19:18.730610Z",
     "shell.execute_reply": "2021-05-17T21:19:18.729969Z"
    },
    "papermill": {
     "duration": 0.661464,
     "end_time": "2021-05-17T21:19:18.730750",
     "exception": false,
     "start_time": "2021-05-17T21:19:18.069286",
     "status": "completed"
    },
    "tags": []
   },
   "outputs": [],
   "source": [
    "_, ax = plt.subplots( nrows = 2, ncols = 1, figsize = (10,8))\n",
    "sns.countplot(x = 'reservation_status', data = df, ax = ax[0])\n",
    "sns.countplot(x ='reservation_status', data = df, hue = 'is_canceled', ax = ax[1])\n",
    "plt.show()"
   ]
  },
  {
   "cell_type": "markdown",
   "id": "neural-reservoir",
   "metadata": {
    "papermill": {
     "duration": 0.076939,
     "end_time": "2021-05-17T21:19:18.884135",
     "exception": false,
     "start_time": "2021-05-17T21:19:18.807196",
     "status": "completed"
    },
    "tags": []
   },
   "source": [
    "* There are very little no. of no shows. Most of the people cancel the reservataon if they don't wish to come. \n",
    "* Well this makes thepoint that there must be some charge on cancelling the fees or some pre deposit, otherwise we would see many no show cases here.\n",
    "* These columns are both same columns. When we make is_canceled a target variable, remember to remove this column as well. Coz this is also the same column that we would have to predict."
   ]
  },
  {
   "cell_type": "markdown",
   "id": "forward-orchestra",
   "metadata": {
    "papermill": {
     "duration": 0.075636,
     "end_time": "2021-05-17T21:19:19.037778",
     "exception": false,
     "start_time": "2021-05-17T21:19:18.962142",
     "status": "completed"
    },
    "tags": []
   },
   "source": [
    "## Cancellation %age in different years"
   ]
  },
  {
   "cell_type": "code",
   "execution_count": null,
   "id": "defensive-content",
   "metadata": {
    "execution": {
     "iopub.execute_input": "2021-05-17T21:19:19.196545Z",
     "iopub.status.busy": "2021-05-17T21:19:19.195874Z",
     "iopub.status.idle": "2021-05-17T21:19:19.204721Z",
     "shell.execute_reply": "2021-05-17T21:19:19.204195Z"
    },
    "papermill": {
     "duration": 0.090078,
     "end_time": "2021-05-17T21:19:19.204853",
     "exception": false,
     "start_time": "2021-05-17T21:19:19.114775",
     "status": "completed"
    },
    "tags": []
   },
   "outputs": [],
   "source": [
    "df.groupby(['arrival_date_year'])['is_canceled'].mean()"
   ]
  },
  {
   "cell_type": "markdown",
   "id": "convenient-brisbane",
   "metadata": {
    "papermill": {
     "duration": 0.07617,
     "end_time": "2021-05-17T21:19:19.358069",
     "exception": false,
     "start_time": "2021-05-17T21:19:19.281899",
     "status": "completed"
    },
    "tags": []
   },
   "source": [
    "* Cancellation rates have remain almost consistent in all 3 years around 35-36%."
   ]
  },
  {
   "cell_type": "markdown",
   "id": "native-gothic",
   "metadata": {
    "papermill": {
     "duration": 0.076228,
     "end_time": "2021-05-17T21:19:19.510944",
     "exception": false,
     "start_time": "2021-05-17T21:19:19.434716",
     "status": "completed"
    },
    "tags": []
   },
   "source": [
    "# Deposit Type"
   ]
  },
  {
   "cell_type": "code",
   "execution_count": null,
   "id": "voluntary-extreme",
   "metadata": {
    "execution": {
     "iopub.execute_input": "2021-05-17T21:19:19.708821Z",
     "iopub.status.busy": "2021-05-17T21:19:19.704286Z",
     "iopub.status.idle": "2021-05-17T21:19:20.419154Z",
     "shell.execute_reply": "2021-05-17T21:19:20.418506Z"
    },
    "papermill": {
     "duration": 0.830477,
     "end_time": "2021-05-17T21:19:20.419292",
     "exception": false,
     "start_time": "2021-05-17T21:19:19.588815",
     "status": "completed"
    },
    "tags": []
   },
   "outputs": [],
   "source": [
    "_, ax = plt.subplots( nrows = 2, ncols = 1, figsize = (10,8))\n",
    "sns.countplot(x = 'deposit_type', data = df, hue = 'hotel', ax = ax[0])\n",
    "sns.countplot(x = 'deposit_type', data = df, hue = 'is_canceled', ax = ax[1])\n",
    "plt.show()"
   ]
  },
  {
   "cell_type": "markdown",
   "id": "treated-shell",
   "metadata": {
    "papermill": {
     "duration": 0.078808,
     "end_time": "2021-05-17T21:19:20.576934",
     "exception": false,
     "start_time": "2021-05-17T21:19:20.498126",
     "status": "completed"
    },
    "tags": []
   },
   "source": [
    "\n",
    "* Deposit type has 3 categories - No Deposit, refundable, Non Refund\n",
    "* Either customers have opted for no deposit or non refundable deposits. \n",
    "* Maybe refundable deposit type is not offered by the hotels.\n",
    "* All of the non refund bookings have been cancelled in our dataset. That might prove important feature based on how many such bookings are part of cancelled bookings.\n",
    "\n",
    "* No hotel has refundable deposit type"
   ]
  },
  {
   "cell_type": "markdown",
   "id": "developed-mobile",
   "metadata": {
    "papermill": {
     "duration": 0.077874,
     "end_time": "2021-05-17T21:19:20.733036",
     "exception": false,
     "start_time": "2021-05-17T21:19:20.655162",
     "status": "completed"
    },
    "tags": []
   },
   "source": [
    "## No. of Bookings during the year as per the cancellation status"
   ]
  },
  {
   "cell_type": "code",
   "execution_count": null,
   "id": "vocational-spoke",
   "metadata": {
    "execution": {
     "iopub.execute_input": "2021-05-17T21:19:20.894571Z",
     "iopub.status.busy": "2021-05-17T21:19:20.893864Z",
     "iopub.status.idle": "2021-05-17T21:19:20.896426Z",
     "shell.execute_reply": "2021-05-17T21:19:20.895805Z"
    },
    "papermill": {
     "duration": 0.085308,
     "end_time": "2021-05-17T21:19:20.896562",
     "exception": false,
     "start_time": "2021-05-17T21:19:20.811254",
     "status": "completed"
    },
    "tags": []
   },
   "outputs": [],
   "source": [
    "order = ['January',\n",
    " 'February', 'March' ,'April', 'May', 'June','July', 'August', 'September', 'October', 'November', 'December' ]"
   ]
  },
  {
   "cell_type": "code",
   "execution_count": null,
   "id": "incredible-enhancement",
   "metadata": {
    "execution": {
     "iopub.execute_input": "2021-05-17T21:19:21.112041Z",
     "iopub.status.busy": "2021-05-17T21:19:21.059300Z",
     "iopub.status.idle": "2021-05-17T21:19:21.748203Z",
     "shell.execute_reply": "2021-05-17T21:19:21.748682Z"
    },
    "papermill": {
     "duration": 0.773585,
     "end_time": "2021-05-17T21:19:21.748846",
     "exception": false,
     "start_time": "2021-05-17T21:19:20.975261",
     "status": "completed"
    },
    "tags": []
   },
   "outputs": [],
   "source": [
    "_, ax = plt.subplots( nrows = 2, ncols = 1, figsize = (10,8))\n",
    "sns.countplot(x = 'arrival_date_month', data = df, ax = ax[0], order = order)\n",
    "sns.countplot(x = 'arrival_date_month', data = df, hue = 'is_canceled', ax = ax[1], order = order)\n",
    "plt.show()"
   ]
  },
  {
   "cell_type": "markdown",
   "id": "earlier-height",
   "metadata": {
    "papermill": {
     "duration": 0.079889,
     "end_time": "2021-05-17T21:19:21.909244",
     "exception": false,
     "start_time": "2021-05-17T21:19:21.829355",
     "status": "completed"
    },
    "tags": []
   },
   "source": [
    "\n",
    "\n",
    "* The cancellation rate is quite consistently high during april to october having its peak at august."
   ]
  },
  {
   "cell_type": "markdown",
   "id": "elect-packaging",
   "metadata": {
    "papermill": {
     "duration": 0.080111,
     "end_time": "2021-05-17T21:19:22.069993",
     "exception": false,
     "start_time": "2021-05-17T21:19:21.989882",
     "status": "completed"
    },
    "tags": []
   },
   "source": [
    "## Countries with high cancellation rate"
   ]
  },
  {
   "cell_type": "code",
   "execution_count": null,
   "id": "mineral-square",
   "metadata": {
    "execution": {
     "iopub.execute_input": "2021-05-17T21:19:22.252877Z",
     "iopub.status.busy": "2021-05-17T21:19:22.251838Z",
     "iopub.status.idle": "2021-05-17T21:19:22.261480Z",
     "shell.execute_reply": "2021-05-17T21:19:22.260929Z"
    },
    "papermill": {
     "duration": 0.110112,
     "end_time": "2021-05-17T21:19:22.261613",
     "exception": false,
     "start_time": "2021-05-17T21:19:22.151501",
     "status": "completed"
    },
    "tags": []
   },
   "outputs": [],
   "source": [
    "df.groupby(['country'])['is_canceled'].agg( np.mean).sort_values(ascending = False).head(30)"
   ]
  },
  {
   "cell_type": "markdown",
   "id": "handled-stewart",
   "metadata": {
    "papermill": {
     "duration": 0.08087,
     "end_time": "2021-05-17T21:19:22.424669",
     "exception": false,
     "start_time": "2021-05-17T21:19:22.343799",
     "status": "completed"
    },
    "tags": []
   },
   "source": [
    "* These are the top 30 countries out of 177 countries  with mean cancellation rate > 60%."
   ]
  },
  {
   "cell_type": "markdown",
   "id": "documented-intro",
   "metadata": {
    "papermill": {
     "duration": 0.080928,
     "end_time": "2021-05-17T21:19:22.586931",
     "exception": false,
     "start_time": "2021-05-17T21:19:22.506003",
     "status": "completed"
    },
    "tags": []
   },
   "source": [
    "# Correlation Heat Map of features"
   ]
  },
  {
   "cell_type": "code",
   "execution_count": null,
   "id": "touched-advance",
   "metadata": {
    "execution": {
     "iopub.execute_input": "2021-05-17T21:19:22.756197Z",
     "iopub.status.busy": "2021-05-17T21:19:22.755188Z",
     "iopub.status.idle": "2021-05-17T21:19:22.757944Z",
     "shell.execute_reply": "2021-05-17T21:19:22.757335Z"
    },
    "papermill": {
     "duration": 0.088682,
     "end_time": "2021-05-17T21:19:22.758102",
     "exception": false,
     "start_time": "2021-05-17T21:19:22.669420",
     "status": "completed"
    },
    "tags": []
   },
   "outputs": [],
   "source": [
    "mat = ['is_canceled',\n",
    " 'lead_time',\n",
    " 'stays_in_weekend_nights',\n",
    " 'stays_in_week_nights',\n",
    " 'adults',\n",
    " 'children',\n",
    " 'babies',\n",
    " 'is_repeated_guest',\n",
    " 'previous_cancellations',\n",
    " 'previous_bookings_not_canceled',\n",
    " 'booking_changes',\n",
    " 'days_in_waiting_list',\n",
    " 'required_car_parking_spaces',\n",
    " 'total_of_special_requests']"
   ]
  },
  {
   "cell_type": "code",
   "execution_count": null,
   "id": "accomplished-operations",
   "metadata": {
    "execution": {
     "iopub.execute_input": "2021-05-17T21:19:22.933171Z",
     "iopub.status.busy": "2021-05-17T21:19:22.931831Z",
     "iopub.status.idle": "2021-05-17T21:19:23.596165Z",
     "shell.execute_reply": "2021-05-17T21:19:23.596643Z"
    },
    "papermill": {
     "duration": 0.75739,
     "end_time": "2021-05-17T21:19:23.596820",
     "exception": false,
     "start_time": "2021-05-17T21:19:22.839430",
     "status": "completed"
    },
    "tags": []
   },
   "outputs": [],
   "source": [
    "plt.figure(figsize = (10,10))\n",
    "cormat = df[mat].corr()\n",
    "sns.heatmap(cormat)"
   ]
  },
  {
   "cell_type": "code",
   "execution_count": null,
   "id": "crude-toronto",
   "metadata": {
    "execution": {
     "iopub.execute_input": "2021-05-17T21:19:23.773825Z",
     "iopub.status.busy": "2021-05-17T21:19:23.773173Z",
     "iopub.status.idle": "2021-05-17T21:19:23.919297Z",
     "shell.execute_reply": "2021-05-17T21:19:23.918737Z"
    },
    "papermill": {
     "duration": 0.235723,
     "end_time": "2021-05-17T21:19:23.919433",
     "exception": false,
     "start_time": "2021-05-17T21:19:23.683710",
     "status": "completed"
    },
    "tags": []
   },
   "outputs": [],
   "source": [
    "#Lets print the most correlated features to the target variable, in descending order\n",
    "cancel_correlation_array = df.corr()['is_canceled']\n",
    "cancel_correlation_array.abs().sort_values(ascending = False)[1:]"
   ]
  },
  {
   "cell_type": "code",
   "execution_count": null,
   "id": "worldwide-smile",
   "metadata": {
    "execution": {
     "iopub.execute_input": "2021-05-17T21:19:24.097427Z",
     "iopub.status.busy": "2021-05-17T21:19:24.096786Z",
     "iopub.status.idle": "2021-05-17T21:19:24.099418Z",
     "shell.execute_reply": "2021-05-17T21:19:24.099881Z"
    },
    "papermill": {
     "duration": 0.093529,
     "end_time": "2021-05-17T21:19:24.100073",
     "exception": false,
     "start_time": "2021-05-17T21:19:24.006544",
     "status": "completed"
    },
    "tags": []
   },
   "outputs": [],
   "source": [
    "cat  = ['is_canceled',\n",
    "    'lead_time',\n",
    " 'stays_in_weekend_nights',\n",
    " 'stays_in_week_nights',\n",
    " 'is_repeated_guest',\n",
    "'previous_bookings_not_canceled',\n",
    "         'required_car_parking_spaces',\n",
    " 'total_of_special_requests'\n",
    "]"
   ]
  },
  {
   "cell_type": "code",
   "execution_count": null,
   "id": "filled-electronics",
   "metadata": {
    "execution": {
     "iopub.execute_input": "2021-05-17T21:19:24.289480Z",
     "iopub.status.busy": "2021-05-17T21:19:24.288822Z",
     "iopub.status.idle": "2021-05-17T21:19:26.137670Z",
     "shell.execute_reply": "2021-05-17T21:19:26.138167Z"
    },
    "papermill": {
     "duration": 1.952573,
     "end_time": "2021-05-17T21:19:26.138350",
     "exception": false,
     "start_time": "2021-05-17T21:19:24.185777",
     "status": "completed"
    },
    "tags": []
   },
   "outputs": [],
   "source": [
    "%config InlineBackend.figure_format = 'png' #loads faster\n",
    "df[cat].hist(figsize = (50,50))"
   ]
  },
  {
   "cell_type": "markdown",
   "id": "enabling-afternoon",
   "metadata": {
    "papermill": {
     "duration": 0.08946,
     "end_time": "2021-05-17T21:19:26.316664",
     "exception": false,
     "start_time": "2021-05-17T21:19:26.227204",
     "status": "completed"
    },
    "tags": []
   },
   "source": [
    "# Pair plot of categorical features"
   ]
  },
  {
   "cell_type": "code",
   "execution_count": null,
   "id": "theoretical-richards",
   "metadata": {
    "execution": {
     "iopub.execute_input": "2021-05-17T21:19:26.513293Z",
     "iopub.status.busy": "2021-05-17T21:19:26.512231Z",
     "iopub.status.idle": "2021-05-17T21:24:01.576869Z",
     "shell.execute_reply": "2021-05-17T21:24:01.577394Z"
    },
    "papermill": {
     "duration": 275.172444,
     "end_time": "2021-05-17T21:24:01.577595",
     "exception": false,
     "start_time": "2021-05-17T21:19:26.405151",
     "status": "completed"
    },
    "tags": []
   },
   "outputs": [],
   "source": [
    "%config InlineBackend.figure_format = 'png'\n",
    "sns.pairplot(df[cat], hue = 'is_canceled', palette = 'husl')"
   ]
  },
  {
   "cell_type": "markdown",
   "id": "cheap-profile",
   "metadata": {
    "papermill": {
     "duration": 0.099055,
     "end_time": "2021-05-17T21:24:01.776040",
     "exception": false,
     "start_time": "2021-05-17T21:24:01.676985",
     "status": "completed"
    },
    "tags": []
   },
   "source": [
    "There is not much informaton/insight directly bring conveyed by the pair plot.\n",
    "Except, the kde plot of the lead time shows a significant difference in shape for both the classes."
   ]
  },
  {
   "cell_type": "markdown",
   "id": "bottom-military",
   "metadata": {
    "papermill": {
     "duration": 0.10048,
     "end_time": "2021-05-17T21:24:01.975924",
     "exception": false,
     "start_time": "2021-05-17T21:24:01.875444",
     "status": "completed"
    },
    "tags": []
   },
   "source": [
    "Lets try to find the bheaviour of the both of the different groups."
   ]
  },
  {
   "cell_type": "markdown",
   "id": "australian-garage",
   "metadata": {
    "papermill": {
     "duration": 0.099996,
     "end_time": "2021-05-17T21:24:02.175964",
     "exception": false,
     "start_time": "2021-05-17T21:24:02.075968",
     "status": "completed"
    },
    "tags": []
   },
   "source": [
    "# Box plot of numerical features vs cancellation status"
   ]
  },
  {
   "cell_type": "code",
   "execution_count": null,
   "id": "wrong-rings",
   "metadata": {
    "execution": {
     "iopub.execute_input": "2021-05-17T21:24:02.378655Z",
     "iopub.status.busy": "2021-05-17T21:24:02.378033Z",
     "iopub.status.idle": "2021-05-17T21:24:02.383030Z",
     "shell.execute_reply": "2021-05-17T21:24:02.382506Z"
    },
    "papermill": {
     "duration": 0.10748,
     "end_time": "2021-05-17T21:24:02.383195",
     "exception": false,
     "start_time": "2021-05-17T21:24:02.275715",
     "status": "completed"
    },
    "tags": []
   },
   "outputs": [],
   "source": [
    "plot_list = ['lead_time',\n",
    " 'stays_in_weekend_nights',\n",
    " 'stays_in_week_nights',\n",
    " 'is_repeated_guest',\n",
    "'previous_bookings_not_canceled',\n",
    "         'required_car_parking_spaces',\n",
    " 'total_of_special_requests']"
   ]
  },
  {
   "cell_type": "code",
   "execution_count": null,
   "id": "obvious-assets",
   "metadata": {
    "execution": {
     "iopub.execute_input": "2021-05-17T21:24:02.585383Z",
     "iopub.status.busy": "2021-05-17T21:24:02.584720Z",
     "iopub.status.idle": "2021-05-17T21:24:07.294715Z",
     "shell.execute_reply": "2021-05-17T21:24:07.294154Z"
    },
    "papermill": {
     "duration": 4.812057,
     "end_time": "2021-05-17T21:24:07.294853",
     "exception": false,
     "start_time": "2021-05-17T21:24:02.482796",
     "status": "completed"
    },
    "tags": []
   },
   "outputs": [],
   "source": [
    "for i in plot_list:\n",
    "    _, ax = plt.subplots( nrows = 1, ncols = 2, figsize = (12,6))\n",
    "    sns.boxplot(x = 'is_canceled', y = i, data = df, showfliers = False, ax = ax[0])\n",
    "    sns.violinplot(x = 'is_canceled', y = i, data = df, showfliers = False, ax = ax[1])\n",
    "    \n",
    "    plt.show()"
   ]
  },
  {
   "cell_type": "markdown",
   "id": "russian-auckland",
   "metadata": {
    "papermill": {
     "duration": 0.110438,
     "end_time": "2021-05-17T21:24:07.584200",
     "exception": false,
     "start_time": "2021-05-17T21:24:07.473762",
     "status": "completed"
    },
    "tags": []
   },
   "source": [
    "\n",
    "1. As expected, few of the features contribute very less to tell whether the customer will cancel the booking.\n",
    "They are - \n",
    "* stays in wekkend nights\n",
    "* stay in week nights\n",
    "* repeated guest\n",
    "* previous booking canceled or not\n",
    "* required car parking spaces\n",
    "2. Although special request feature's median differ for both of the groups, but since its 75th percentile is 1 that means, its zero for most of the percentage of people. Hence, this would also not help much in predicting. \n",
    "\n",
    "3. Now, lets discuss about the lead time. \n",
    "* It is quite significantly different for both of the groups. \n",
    "* The people more likely to cancel have longer lead time for booking."
   ]
  },
  {
   "cell_type": "markdown",
   "id": "infectious-steps",
   "metadata": {
    "papermill": {
     "duration": 0.105457,
     "end_time": "2021-05-17T21:24:07.795681",
     "exception": false,
     "start_time": "2021-05-17T21:24:07.690224",
     "status": "completed"
    },
    "tags": []
   },
   "source": [
    "# Cancellation due to the difference in wanted and assigned room type"
   ]
  },
  {
   "cell_type": "code",
   "execution_count": null,
   "id": "checked-personality",
   "metadata": {
    "execution": {
     "iopub.execute_input": "2021-05-17T21:24:08.012392Z",
     "iopub.status.busy": "2021-05-17T21:24:08.011375Z",
     "iopub.status.idle": "2021-05-17T21:24:08.451451Z",
     "shell.execute_reply": "2021-05-17T21:24:08.452004Z"
    },
    "papermill": {
     "duration": 0.55086,
     "end_time": "2021-05-17T21:24:08.452353",
     "exception": false,
     "start_time": "2021-05-17T21:24:07.901493",
     "status": "completed"
    },
    "tags": []
   },
   "outputs": [],
   "source": [
    "sns.countplot(x = 'reserved_room_type', hue = 'hotel', data = df)\n",
    "plt.show()"
   ]
  },
  {
   "cell_type": "markdown",
   "id": "sought-bulletin",
   "metadata": {
    "papermill": {
     "duration": 0.106773,
     "end_time": "2021-05-17T21:24:08.666377",
     "exception": false,
     "start_time": "2021-05-17T21:24:08.559604",
     "status": "completed"
    },
    "tags": []
   },
   "source": [
    "This figure illustrates that room tyoes are common across the hotels. Both have room types with same names. "
   ]
  },
  {
   "cell_type": "code",
   "execution_count": null,
   "id": "variable-experience",
   "metadata": {
    "execution": {
     "iopub.execute_input": "2021-05-17T21:24:08.883738Z",
     "iopub.status.busy": "2021-05-17T21:24:08.882740Z",
     "iopub.status.idle": "2021-05-17T21:24:09.631294Z",
     "shell.execute_reply": "2021-05-17T21:24:09.631760Z"
    },
    "papermill": {
     "duration": 0.859055,
     "end_time": "2021-05-17T21:24:09.631935",
     "exception": false,
     "start_time": "2021-05-17T21:24:08.772880",
     "status": "completed"
    },
    "tags": []
   },
   "outputs": [],
   "source": [
    "_, ax = plt.subplots( nrows = 1, ncols = 2, figsize = (12,5))\n",
    "sns.countplot(x = 'reserved_room_type', hue = 'is_canceled', data = df,  ax = ax[0])\n",
    "sns.countplot(x = 'assigned_room_type', hue = 'is_canceled', data = df,  ax = ax[1])\n",
    "plt.show()"
   ]
  },
  {
   "cell_type": "markdown",
   "id": "accomplished-crest",
   "metadata": {
    "papermill": {
     "duration": 0.107619,
     "end_time": "2021-05-17T21:24:09.848261",
     "exception": false,
     "start_time": "2021-05-17T21:24:09.740642",
     "status": "completed"
    },
    "tags": []
   },
   "source": [
    "Room Types A,D,E have quite high reservation and assignment satus.\n",
    "But as a result, they have high cancellation rate as well.\n",
    "Although one cancellation reason might be the allotment of unwanted room type.\n",
    "Lets check it."
   ]
  },
  {
   "cell_type": "code",
   "execution_count": null,
   "id": "informal-overall",
   "metadata": {
    "execution": {
     "iopub.execute_input": "2021-05-17T21:24:10.069111Z",
     "iopub.status.busy": "2021-05-17T21:24:10.068170Z",
     "iopub.status.idle": "2021-05-17T21:24:10.095963Z",
     "shell.execute_reply": "2021-05-17T21:24:10.096469Z"
    },
    "papermill": {
     "duration": 0.139804,
     "end_time": "2021-05-17T21:24:10.096655",
     "exception": false,
     "start_time": "2021-05-17T21:24:09.956851",
     "status": "completed"
    },
    "tags": []
   },
   "outputs": [],
   "source": [
    "unwanted_room = np.where(df['reserved_room_type'] == df['assigned_room_type'], 'Wanted', 'Unwanted')"
   ]
  },
  {
   "cell_type": "code",
   "execution_count": null,
   "id": "referenced-catalyst",
   "metadata": {
    "execution": {
     "iopub.execute_input": "2021-05-17T21:24:10.316720Z",
     "iopub.status.busy": "2021-05-17T21:24:10.315482Z",
     "iopub.status.idle": "2021-05-17T21:24:10.332772Z",
     "shell.execute_reply": "2021-05-17T21:24:10.333257Z"
    },
    "papermill": {
     "duration": 0.129076,
     "end_time": "2021-05-17T21:24:10.333435",
     "exception": false,
     "start_time": "2021-05-17T21:24:10.204359",
     "status": "completed"
    },
    "tags": []
   },
   "outputs": [],
   "source": [
    "df['unwanted_room'] = unwanted_room"
   ]
  },
  {
   "cell_type": "code",
   "execution_count": null,
   "id": "threaded-democracy",
   "metadata": {
    "execution": {
     "iopub.execute_input": "2021-05-17T21:24:10.554236Z",
     "iopub.status.busy": "2021-05-17T21:24:10.553583Z",
     "iopub.status.idle": "2021-05-17T21:24:10.852503Z",
     "shell.execute_reply": "2021-05-17T21:24:10.851955Z"
    },
    "papermill": {
     "duration": 0.412079,
     "end_time": "2021-05-17T21:24:10.852664",
     "exception": false,
     "start_time": "2021-05-17T21:24:10.440585",
     "status": "completed"
    },
    "tags": []
   },
   "outputs": [],
   "source": [
    "sns.countplot(x = 'unwanted_room', data = df, hue = 'is_canceled')\n",
    "plt.title(\"No. of guests who cancelled the booking on getting room type as wanted or unwanted\")\n",
    "plt.show()"
   ]
  },
  {
   "cell_type": "markdown",
   "id": "false-adjustment",
   "metadata": {
    "papermill": {
     "duration": 0.111827,
     "end_time": "2021-05-17T21:24:11.075679",
     "exception": false,
     "start_time": "2021-05-17T21:24:10.963852",
     "status": "completed"
    },
    "tags": []
   },
   "source": [
    "* Well, it is highly likely to cancel the reservation if alloted room type is unwanted according to our hypothesis.\n",
    "* But here the cancellation rate is very low. \n",
    "* Although we may completely disprove our hypothesis according to p value statistics\n",
    "* but here we shall just go with the intutition of seeing the chart\n",
    "\n",
    "* Since, it doesnt follow the hypothesis, so should we drop this column now? What if its an important column?\n",
    "* Well, I guess we should keep the original columns and not worry about this as information is already carried by the previous 2 columns. and they contain more info than this as room types A , D, E had more cancellation rates \n",
    "Let's drop this column.\n"
   ]
  },
  {
   "cell_type": "code",
   "execution_count": null,
   "id": "compliant-solid",
   "metadata": {
    "execution": {
     "iopub.execute_input": "2021-05-17T21:24:11.301614Z",
     "iopub.status.busy": "2021-05-17T21:24:11.300993Z",
     "iopub.status.idle": "2021-05-17T21:24:11.306733Z",
     "shell.execute_reply": "2021-05-17T21:24:11.307231Z"
    },
    "papermill": {
     "duration": 0.119826,
     "end_time": "2021-05-17T21:24:11.307411",
     "exception": false,
     "start_time": "2021-05-17T21:24:11.187585",
     "status": "completed"
    },
    "tags": []
   },
   "outputs": [],
   "source": [
    "df.shape"
   ]
  },
  {
   "cell_type": "code",
   "execution_count": null,
   "id": "immediate-percentage",
   "metadata": {
    "execution": {
     "iopub.execute_input": "2021-05-17T21:24:11.536026Z",
     "iopub.status.busy": "2021-05-17T21:24:11.534971Z",
     "iopub.status.idle": "2021-05-17T21:24:11.624026Z",
     "shell.execute_reply": "2021-05-17T21:24:11.623496Z"
    },
    "papermill": {
     "duration": 0.205416,
     "end_time": "2021-05-17T21:24:11.624181",
     "exception": false,
     "start_time": "2021-05-17T21:24:11.418765",
     "status": "completed"
    },
    "tags": []
   },
   "outputs": [],
   "source": [
    "df.drop('unwanted_room', axis = 1, inplace = True)\n",
    "df.head()"
   ]
  },
  {
   "cell_type": "markdown",
   "id": "standard-tournament",
   "metadata": {
    "papermill": {
     "duration": 0.111339,
     "end_time": "2021-05-17T21:24:11.847024",
     "exception": false,
     "start_time": "2021-05-17T21:24:11.735685",
     "status": "completed"
    },
    "tags": []
   },
   "source": [
    "# **Its Feature Engineering Time Now**"
   ]
  },
  {
   "cell_type": "markdown",
   "id": "rotary-recommendation",
   "metadata": {
    "papermill": {
     "duration": 0.111294,
     "end_time": "2021-05-17T21:24:12.070323",
     "exception": false,
     "start_time": "2021-05-17T21:24:11.959029",
     "status": "completed"
    },
    "tags": []
   },
   "source": [
    "# **Data Pre-Processing before applying ML Models**\n",
    "1. Handling missing values\n",
    "2. Handling non-numeric data (handling categorical, ordinal variables and strings)\n",
    "3. Feature engineering and creating new features out of existing features.\n",
    "4. Extracting only useful and relevant features: Feature selection\n",
    "5. Remove features with missing values above a particular threshold\n",
    "6. Splitting data into Training and test sets\n"
   ]
  },
  {
   "cell_type": "markdown",
   "id": "wired-distribution",
   "metadata": {
    "papermill": {
     "duration": 0.111855,
     "end_time": "2021-05-17T21:24:12.294656",
     "exception": false,
     "start_time": "2021-05-17T21:24:12.182801",
     "status": "completed"
    },
    "tags": []
   },
   "source": [
    "# Handling Missing Values\n"
   ]
  },
  {
   "cell_type": "code",
   "execution_count": null,
   "id": "appropriate-joshua",
   "metadata": {
    "execution": {
     "iopub.execute_input": "2021-05-17T21:24:12.637492Z",
     "iopub.status.busy": "2021-05-17T21:24:12.636809Z",
     "iopub.status.idle": "2021-05-17T21:24:12.650990Z",
     "shell.execute_reply": "2021-05-17T21:24:12.650499Z"
    },
    "papermill": {
     "duration": 0.243682,
     "end_time": "2021-05-17T21:24:12.651143",
     "exception": false,
     "start_time": "2021-05-17T21:24:12.407461",
     "status": "completed"
    },
    "tags": []
   },
   "outputs": [],
   "source": [
    "df.isna().sum()"
   ]
  },
  {
   "cell_type": "markdown",
   "id": "centered-costs",
   "metadata": {
    "papermill": {
     "duration": 0.112395,
     "end_time": "2021-05-17T21:24:12.875673",
     "exception": false,
     "start_time": "2021-05-17T21:24:12.763278",
     "status": "completed"
    },
    "tags": []
   },
   "source": [
    "> 1. As customers with no children may be assumed to leave the children field empty. Hence, lets replace NaN values with zero here.\n",
    "> 2. And people with missing values in agent id might have booked themselves, so we may replace it with 0.0\n",
    "> 3.  Similarly, NaN value in company column signifies the customer has booked it personally and not on the expense of company.\n",
    "> 4. Finally, lets replace the Missing values in company with Unknown category."
   ]
  },
  {
   "cell_type": "code",
   "execution_count": null,
   "id": "korean-reserve",
   "metadata": {
    "execution": {
     "iopub.execute_input": "2021-05-17T21:24:13.106820Z",
     "iopub.status.busy": "2021-05-17T21:24:13.105870Z",
     "iopub.status.idle": "2021-05-17T21:24:13.124146Z",
     "shell.execute_reply": "2021-05-17T21:24:13.123474Z"
    },
    "papermill": {
     "duration": 0.13626,
     "end_time": "2021-05-17T21:24:13.124284",
     "exception": false,
     "start_time": "2021-05-17T21:24:12.988024",
     "status": "completed"
    },
    "tags": []
   },
   "outputs": [],
   "source": [
    "nan_replacement_dict = {\"children\": 0 ,\"country\" : \"UKNWN\", 'agent' : 0.0, 'company' : 0}\n",
    "df.fillna(nan_replacement_dict, inplace = True)"
   ]
  },
  {
   "cell_type": "code",
   "execution_count": null,
   "id": "flying-equity",
   "metadata": {
    "execution": {
     "iopub.execute_input": "2021-05-17T21:24:13.469139Z",
     "iopub.status.busy": "2021-05-17T21:24:13.468024Z",
     "iopub.status.idle": "2021-05-17T21:24:13.477901Z",
     "shell.execute_reply": "2021-05-17T21:24:13.477330Z"
    },
    "papermill": {
     "duration": 0.241316,
     "end_time": "2021-05-17T21:24:13.478064",
     "exception": false,
     "start_time": "2021-05-17T21:24:13.236748",
     "status": "completed"
    },
    "tags": []
   },
   "outputs": [],
   "source": [
    "df.isna().any().sum()"
   ]
  },
  {
   "cell_type": "code",
   "execution_count": null,
   "id": "clean-hamilton",
   "metadata": {
    "execution": {
     "iopub.execute_input": "2021-05-17T21:24:13.712331Z",
     "iopub.status.busy": "2021-05-17T21:24:13.711605Z",
     "iopub.status.idle": "2021-05-17T21:24:13.730493Z",
     "shell.execute_reply": "2021-05-17T21:24:13.729848Z"
    },
    "papermill": {
     "duration": 0.137791,
     "end_time": "2021-05-17T21:24:13.730636",
     "exception": false,
     "start_time": "2021-05-17T21:24:13.592845",
     "status": "completed"
    },
    "tags": []
   },
   "outputs": [],
   "source": [
    "#Dropping columns that might cause data leakage\n",
    "df.drop(['reservation_status', \n",
    "'reservation_status_date' , 'arrival_date_week_number', 'stays_in_weekend_nights', 'arrival_date_month', 'agent'], axis = 1, inplace = True)\n",
    "df.shape"
   ]
  },
  {
   "cell_type": "code",
   "execution_count": null,
   "id": "sharing-country",
   "metadata": {
    "execution": {
     "iopub.execute_input": "2021-05-17T21:24:13.965298Z",
     "iopub.status.busy": "2021-05-17T21:24:13.964402Z",
     "iopub.status.idle": "2021-05-17T21:24:13.967793Z",
     "shell.execute_reply": "2021-05-17T21:24:13.968341Z"
    },
    "papermill": {
     "duration": 0.124067,
     "end_time": "2021-05-17T21:24:13.968510",
     "exception": false,
     "start_time": "2021-05-17T21:24:13.844443",
     "status": "completed"
    },
    "tags": []
   },
   "outputs": [],
   "source": [
    "df.columns"
   ]
  },
  {
   "cell_type": "markdown",
   "id": "excited-pressing",
   "metadata": {
    "papermill": {
     "duration": 0.114685,
     "end_time": "2021-05-17T21:24:14.197339",
     "exception": false,
     "start_time": "2021-05-17T21:24:14.082654",
     "status": "completed"
    },
    "tags": []
   },
   "source": [
    "# Pre Processing Steps"
   ]
  },
  {
   "cell_type": "code",
   "execution_count": null,
   "id": "automatic-destination",
   "metadata": {
    "execution": {
     "iopub.execute_input": "2021-05-17T21:24:14.429033Z",
     "iopub.status.busy": "2021-05-17T21:24:14.428070Z",
     "iopub.status.idle": "2021-05-17T21:24:14.453318Z",
     "shell.execute_reply": "2021-05-17T21:24:14.452658Z"
    },
    "papermill": {
     "duration": 0.142314,
     "end_time": "2021-05-17T21:24:14.453458",
     "exception": false,
     "start_time": "2021-05-17T21:24:14.311144",
     "status": "completed"
    },
    "tags": []
   },
   "outputs": [],
   "source": [
    "#Copying dataframe so that we don't need to dropcolumns from the main dataframe inplace\n",
    "df1 = df.copy()"
   ]
  },
  {
   "cell_type": "code",
   "execution_count": null,
   "id": "mechanical-aaron",
   "metadata": {
    "execution": {
     "iopub.execute_input": "2021-05-17T21:24:14.684644Z",
     "iopub.status.busy": "2021-05-17T21:24:14.683968Z",
     "iopub.status.idle": "2021-05-17T21:24:14.687156Z",
     "shell.execute_reply": "2021-05-17T21:24:14.687635Z"
    },
    "papermill": {
     "duration": 0.119826,
     "end_time": "2021-05-17T21:24:14.687795",
     "exception": false,
     "start_time": "2021-05-17T21:24:14.567969",
     "status": "completed"
    },
    "tags": []
   },
   "outputs": [],
   "source": [
    "# Manually Onehotencoding the hotel variable\n",
    "hotel = {'Resort Hotel': 0, 'City Hotel' : 1}"
   ]
  },
  {
   "cell_type": "code",
   "execution_count": null,
   "id": "governmental-buyer",
   "metadata": {
    "execution": {
     "iopub.execute_input": "2021-05-17T21:24:14.935498Z",
     "iopub.status.busy": "2021-05-17T21:24:14.934801Z",
     "iopub.status.idle": "2021-05-17T21:24:14.953664Z",
     "shell.execute_reply": "2021-05-17T21:24:14.952982Z"
    },
    "papermill": {
     "duration": 0.152568,
     "end_time": "2021-05-17T21:24:14.953828",
     "exception": false,
     "start_time": "2021-05-17T21:24:14.801260",
     "status": "completed"
    },
    "tags": []
   },
   "outputs": [],
   "source": [
    "df1['hotel'] = df1['hotel'].map(hotel)"
   ]
  },
  {
   "cell_type": "code",
   "execution_count": null,
   "id": "above-marker",
   "metadata": {
    "execution": {
     "iopub.execute_input": "2021-05-17T21:24:15.189013Z",
     "iopub.status.busy": "2021-05-17T21:24:15.188370Z",
     "iopub.status.idle": "2021-05-17T21:24:15.296789Z",
     "shell.execute_reply": "2021-05-17T21:24:15.296272Z"
    },
    "papermill": {
     "duration": 0.228548,
     "end_time": "2021-05-17T21:24:15.296931",
     "exception": false,
     "start_time": "2021-05-17T21:24:15.068383",
     "status": "completed"
    },
    "tags": []
   },
   "outputs": [],
   "source": [
    "#one hot encoding \n",
    "df1 = pd.get_dummies(data = df1, columns = ['meal', 'market_segment', 'distribution_channel',\n",
    "                                            'reserved_room_type', 'assigned_room_type', 'customer_type', 'deposit_type'], drop_first = True)"
   ]
  },
  {
   "cell_type": "code",
   "execution_count": null,
   "id": "qualified-induction",
   "metadata": {
    "execution": {
     "iopub.execute_input": "2021-05-17T21:24:15.530671Z",
     "iopub.status.busy": "2021-05-17T21:24:15.530021Z",
     "iopub.status.idle": "2021-05-17T21:24:15.533162Z",
     "shell.execute_reply": "2021-05-17T21:24:15.532511Z"
    },
    "papermill": {
     "duration": 0.121907,
     "end_time": "2021-05-17T21:24:15.533299",
     "exception": false,
     "start_time": "2021-05-17T21:24:15.411392",
     "status": "completed"
    },
    "tags": []
   },
   "outputs": [],
   "source": [
    "#LabelEncoder\n",
    "le = LabelEncoder()"
   ]
  },
  {
   "cell_type": "code",
   "execution_count": null,
   "id": "roman-failure",
   "metadata": {
    "execution": {
     "iopub.execute_input": "2021-05-17T21:24:15.773513Z",
     "iopub.status.busy": "2021-05-17T21:24:15.767759Z",
     "iopub.status.idle": "2021-05-17T21:24:15.814174Z",
     "shell.execute_reply": "2021-05-17T21:24:15.813522Z"
    },
    "papermill": {
     "duration": 0.165878,
     "end_time": "2021-05-17T21:24:15.814351",
     "exception": false,
     "start_time": "2021-05-17T21:24:15.648473",
     "status": "completed"
    },
    "tags": []
   },
   "outputs": [],
   "source": [
    "df1['country'] = le.fit_transform(df1['country'])"
   ]
  },
  {
   "cell_type": "markdown",
   "id": "global-kuwait",
   "metadata": {
    "papermill": {
     "duration": 0.114615,
     "end_time": "2021-05-17T21:24:16.042938",
     "exception": false,
     "start_time": "2021-05-17T21:24:15.928323",
     "status": "completed"
    },
    "tags": []
   },
   "source": [
    "* Label Encoding Country column as it has more than 300 categories. \n",
    "* It will create a large  no. of columns, if we choose to do one hot encoding"
   ]
  },
  {
   "cell_type": "code",
   "execution_count": null,
   "id": "committed-emerald",
   "metadata": {
    "execution": {
     "iopub.execute_input": "2021-05-17T21:24:16.283289Z",
     "iopub.status.busy": "2021-05-17T21:24:16.277924Z",
     "iopub.status.idle": "2021-05-17T21:24:16.311867Z",
     "shell.execute_reply": "2021-05-17T21:24:16.311232Z"
    },
    "papermill": {
     "duration": 0.154246,
     "end_time": "2021-05-17T21:24:16.312005",
     "exception": false,
     "start_time": "2021-05-17T21:24:16.157759",
     "status": "completed"
    },
    "tags": []
   },
   "outputs": [],
   "source": [
    "df1.head()"
   ]
  },
  {
   "cell_type": "code",
   "execution_count": null,
   "id": "immediate-trouble",
   "metadata": {
    "execution": {
     "iopub.execute_input": "2021-05-17T21:24:16.548222Z",
     "iopub.status.busy": "2021-05-17T21:24:16.547291Z",
     "iopub.status.idle": "2021-05-17T21:24:16.550892Z",
     "shell.execute_reply": "2021-05-17T21:24:16.551364Z"
    },
    "papermill": {
     "duration": 0.124074,
     "end_time": "2021-05-17T21:24:16.551533",
     "exception": false,
     "start_time": "2021-05-17T21:24:16.427459",
     "status": "completed"
    },
    "tags": []
   },
   "outputs": [],
   "source": [
    "df1.shape"
   ]
  },
  {
   "cell_type": "code",
   "execution_count": null,
   "id": "simplified-squad",
   "metadata": {
    "execution": {
     "iopub.execute_input": "2021-05-17T21:24:16.788976Z",
     "iopub.status.busy": "2021-05-17T21:24:16.788363Z",
     "iopub.status.idle": "2021-05-17T21:24:16.807817Z",
     "shell.execute_reply": "2021-05-17T21:24:16.808351Z"
    },
    "papermill": {
     "duration": 0.141237,
     "end_time": "2021-05-17T21:24:16.808527",
     "exception": false,
     "start_time": "2021-05-17T21:24:16.667290",
     "status": "completed"
    },
    "tags": []
   },
   "outputs": [],
   "source": [
    "# Lets separate training and target dataset\n",
    "X = df1.drop('is_canceled', axis = 1)\n",
    "y = df1['is_canceled']"
   ]
  },
  {
   "cell_type": "code",
   "execution_count": null,
   "id": "naked-bishop",
   "metadata": {
    "execution": {
     "iopub.execute_input": "2021-05-17T21:24:17.042273Z",
     "iopub.status.busy": "2021-05-17T21:24:17.041647Z",
     "iopub.status.idle": "2021-05-17T21:24:17.096643Z",
     "shell.execute_reply": "2021-05-17T21:24:17.097169Z"
    },
    "papermill": {
     "duration": 0.173485,
     "end_time": "2021-05-17T21:24:17.097366",
     "exception": false,
     "start_time": "2021-05-17T21:24:16.923881",
     "status": "completed"
    },
    "tags": []
   },
   "outputs": [],
   "source": [
    "#Splitting them further into training and test set\n",
    "X_train,  X_test,y_train, y_test = train_test_split(X, y, test_size = 0.30, random_state = 40)"
   ]
  },
  {
   "cell_type": "code",
   "execution_count": null,
   "id": "trained-newspaper",
   "metadata": {
    "execution": {
     "iopub.execute_input": "2021-05-17T21:24:17.336538Z",
     "iopub.status.busy": "2021-05-17T21:24:17.335536Z",
     "iopub.status.idle": "2021-05-17T21:24:17.338675Z",
     "shell.execute_reply": "2021-05-17T21:24:17.338121Z"
    },
    "papermill": {
     "duration": 0.123406,
     "end_time": "2021-05-17T21:24:17.338812",
     "exception": false,
     "start_time": "2021-05-17T21:24:17.215406",
     "status": "completed"
    },
    "tags": []
   },
   "outputs": [],
   "source": [
    "#Setting gloabl random state variable for all the steps used further in the process to avoid randomness in the model accuracy.\n",
    "global random_state\n",
    "random_state = 40"
   ]
  },
  {
   "cell_type": "code",
   "execution_count": null,
   "id": "loaded-gather",
   "metadata": {
    "execution": {
     "iopub.execute_input": "2021-05-17T21:24:17.580948Z",
     "iopub.status.busy": "2021-05-17T21:24:17.580316Z",
     "iopub.status.idle": "2021-05-17T21:24:17.582905Z",
     "shell.execute_reply": "2021-05-17T21:24:17.583369Z"
    },
    "papermill": {
     "duration": 0.125876,
     "end_time": "2021-05-17T21:24:17.583545",
     "exception": false,
     "start_time": "2021-05-17T21:24:17.457669",
     "status": "completed"
    },
    "tags": []
   },
   "outputs": [],
   "source": [
    "#Made a model dictionary for all the Classification models being used\n",
    "model_dict = {\n",
    "    'LOR_Model' : LogisticRegression(n_jobs = -1),\n",
    "    'KNN_Model' : KNeighborsClassifier(),\n",
    "    'RFC_Model' : RandomForestClassifier(n_jobs = -1),\n",
    "    'XGB_Model' : XGBClassifier(n_jobs = -1)\n",
    "    \n",
    "}"
   ]
  },
  {
   "cell_type": "code",
   "execution_count": null,
   "id": "sophisticated-purpose",
   "metadata": {
    "execution": {
     "iopub.execute_input": "2021-05-17T21:24:17.832108Z",
     "iopub.status.busy": "2021-05-17T21:24:17.831152Z",
     "iopub.status.idle": "2021-05-17T21:24:17.834040Z",
     "shell.execute_reply": "2021-05-17T21:24:17.833451Z"
    },
    "papermill": {
     "duration": 0.12607,
     "end_time": "2021-05-17T21:24:17.834280",
     "exception": false,
     "start_time": "2021-05-17T21:24:17.708210",
     "status": "completed"
    },
    "tags": []
   },
   "outputs": [],
   "source": [
    "#Function to train the respective algorithm with the train data and printing out accuracy score and confusion matrix\n",
    "def model1(algorithm, X_train, X_test, y_train, y_test):\n",
    "    alg = algorithm\n",
    "    alg_model = alg.fit(X_train, y_train)\n",
    "    global y_pred\n",
    "    y_pred = alg_model.predict(X_test)\n",
    "    \n",
    "    print('Accuracy Score: {}\\n\\nConfusion Matrix:\\n {}'\n",
    "      .format(accuracy_score(y_test,y_pred), confusion_matrix(y_test,y_pred)))"
   ]
  },
  {
   "cell_type": "code",
   "execution_count": null,
   "id": "level-slovenia",
   "metadata": {
    "execution": {
     "iopub.execute_input": "2021-05-17T21:24:18.077087Z",
     "iopub.status.busy": "2021-05-17T21:24:18.075833Z",
     "iopub.status.idle": "2021-05-17T21:25:42.159970Z",
     "shell.execute_reply": "2021-05-17T21:25:42.159256Z"
    },
    "papermill": {
     "duration": 84.208924,
     "end_time": "2021-05-17T21:25:42.160184",
     "exception": false,
     "start_time": "2021-05-17T21:24:17.951260",
     "status": "completed"
    },
    "tags": []
   },
   "outputs": [],
   "source": [
    "for name, model in model_dict.items():\n",
    "    print(\"\\n\")\n",
    "    print(name, \"\\n\")\n",
    "    model1(model, X_train, X_test, y_train, y_test )\n"
   ]
  },
  {
   "cell_type": "markdown",
   "id": "radio-queensland",
   "metadata": {
    "papermill": {
     "duration": 0.117596,
     "end_time": "2021-05-17T21:25:42.396277",
     "exception": false,
     "start_time": "2021-05-17T21:25:42.278681",
     "status": "completed"
    },
    "tags": []
   },
   "source": [
    "The best model accuracy is obtained with Random Forest Classifier, that is 88.47%"
   ]
  },
  {
   "cell_type": "markdown",
   "id": "harmful-andrews",
   "metadata": {
    "papermill": {
     "duration": 0.118608,
     "end_time": "2021-05-17T21:25:42.632853",
     "exception": false,
     "start_time": "2021-05-17T21:25:42.514245",
     "status": "completed"
    },
    "tags": []
   },
   "source": [
    "# Tuning the model with the best accuracy"
   ]
  },
  {
   "cell_type": "code",
   "execution_count": null,
   "id": "auburn-iceland",
   "metadata": {
    "execution": {
     "iopub.execute_input": "2021-05-17T21:25:42.876038Z",
     "iopub.status.busy": "2021-05-17T21:25:42.875019Z",
     "iopub.status.idle": "2021-05-17T21:25:42.878258Z",
     "shell.execute_reply": "2021-05-17T21:25:42.877613Z"
    },
    "papermill": {
     "duration": 0.127636,
     "end_time": "2021-05-17T21:25:42.878393",
     "exception": false,
     "start_time": "2021-05-17T21:25:42.750757",
     "status": "completed"
    },
    "tags": []
   },
   "outputs": [],
   "source": [
    "rf_parameters = {\"max_depth\": [10,13],\n",
    "                 \"n_estimators\": [10,100,500],\n",
    "                 \"min_samples_split\": [2,5]}"
   ]
  },
  {
   "cell_type": "code",
   "execution_count": null,
   "id": "exact-spank",
   "metadata": {
    "execution": {
     "iopub.execute_input": "2021-05-17T21:25:43.122791Z",
     "iopub.status.busy": "2021-05-17T21:25:43.122176Z",
     "iopub.status.idle": "2021-05-17T21:25:43.124993Z",
     "shell.execute_reply": "2021-05-17T21:25:43.124488Z"
    },
    "papermill": {
     "duration": 0.126991,
     "end_time": "2021-05-17T21:25:43.125140",
     "exception": false,
     "start_time": "2021-05-17T21:25:42.998149",
     "status": "completed"
    },
    "tags": []
   },
   "outputs": [],
   "source": [
    "rf_model = RandomForestClassifier()\n"
   ]
  },
  {
   "cell_type": "code",
   "execution_count": null,
   "id": "valuable-muslim",
   "metadata": {
    "execution": {
     "iopub.execute_input": "2021-05-17T21:25:43.365357Z",
     "iopub.status.busy": "2021-05-17T21:25:43.364718Z",
     "iopub.status.idle": "2021-05-17T21:36:20.253616Z",
     "shell.execute_reply": "2021-05-17T21:36:20.254129Z"
    },
    "papermill": {
     "duration": 637.010412,
     "end_time": "2021-05-17T21:36:20.254338",
     "exception": false,
     "start_time": "2021-05-17T21:25:43.243926",
     "status": "completed"
    },
    "tags": []
   },
   "outputs": [],
   "source": [
    "rf_cv_model = GridSearchCV(rf_model,\n",
    "                           rf_parameters,\n",
    "                           cv = 10,\n",
    "                           n_jobs = -1,\n",
    "                           verbose = 2)\n",
    "\n",
    "rf_cv_model.fit(X_train, y_train)"
   ]
  },
  {
   "cell_type": "code",
   "execution_count": null,
   "id": "current-swing",
   "metadata": {
    "execution": {
     "iopub.execute_input": "2021-05-17T21:36:20.499326Z",
     "iopub.status.busy": "2021-05-17T21:36:20.498642Z",
     "iopub.status.idle": "2021-05-17T21:36:20.501624Z",
     "shell.execute_reply": "2021-05-17T21:36:20.502353Z"
    },
    "papermill": {
     "duration": 0.128737,
     "end_time": "2021-05-17T21:36:20.502578",
     "exception": false,
     "start_time": "2021-05-17T21:36:20.373841",
     "status": "completed"
    },
    "tags": []
   },
   "outputs": [],
   "source": [
    "print('Best parameters: ' + str(rf_cv_model.best_params_))"
   ]
  },
  {
   "cell_type": "code",
   "execution_count": null,
   "id": "dominant-solid",
   "metadata": {
    "execution": {
     "iopub.execute_input": "2021-05-17T21:36:20.758665Z",
     "iopub.status.busy": "2021-05-17T21:36:20.757428Z",
     "iopub.status.idle": "2021-05-17T21:37:00.794448Z",
     "shell.execute_reply": "2021-05-17T21:37:00.795067Z"
    },
    "papermill": {
     "duration": 40.169253,
     "end_time": "2021-05-17T21:37:00.795245",
     "exception": false,
     "start_time": "2021-05-17T21:36:20.625992",
     "status": "completed"
    },
    "tags": []
   },
   "outputs": [],
   "source": [
    "rf_tuned = RandomForestClassifier(max_depth = 13,\n",
    "                                  min_samples_split = 2,\n",
    "                                  n_estimators = 500)\n",
    "\n",
    "print('Model: Random Forest Tuned\\n')\n",
    "model1(rf_tuned, X_train, X_test, y_train, y_test)"
   ]
  },
  {
   "cell_type": "markdown",
   "id": "loving-basis",
   "metadata": {
    "papermill": {
     "duration": 0.126831,
     "end_time": "2021-05-17T21:37:01.047335",
     "exception": false,
     "start_time": "2021-05-17T21:37:00.920504",
     "status": "completed"
    },
    "tags": []
   },
   "source": [
    "* Tuned Random Forest Model is giving worse accuracy than the deafult one. \n",
    "* In the default model there is no limit for max depth. \n",
    "* Increasing max depth gives us better accuracy scores but may decrease generalization."
   ]
  },
  {
   "cell_type": "markdown",
   "id": "organic-notice",
   "metadata": {
    "papermill": {
     "duration": 0.123143,
     "end_time": "2021-05-17T21:37:01.293697",
     "exception": false,
     "start_time": "2021-05-17T21:37:01.170554",
     "status": "completed"
    },
    "tags": []
   },
   "source": [
    "# Conclusion\n"
   ]
  },
  {
   "cell_type": "markdown",
   "id": "disabled-criterion",
   "metadata": {
    "papermill": {
     "duration": 0.120515,
     "end_time": "2021-05-17T21:37:01.554644",
     "exception": false,
     "start_time": "2021-05-17T21:37:01.434129",
     "status": "completed"
    },
    "tags": []
   },
   "source": [
    "## Feature Importance"
   ]
  },
  {
   "cell_type": "code",
   "execution_count": null,
   "id": "biological-drunk",
   "metadata": {
    "execution": {
     "iopub.execute_input": "2021-05-17T21:37:01.803178Z",
     "iopub.status.busy": "2021-05-17T21:37:01.802082Z",
     "iopub.status.idle": "2021-05-17T21:37:01.805340Z",
     "shell.execute_reply": "2021-05-17T21:37:01.804801Z"
    },
    "papermill": {
     "duration": 0.12887,
     "end_time": "2021-05-17T21:37:01.805476",
     "exception": false,
     "start_time": "2021-05-17T21:37:01.676606",
     "status": "completed"
    },
    "tags": []
   },
   "outputs": [],
   "source": [
    "rf = RandomForestClassifier()"
   ]
  },
  {
   "cell_type": "code",
   "execution_count": null,
   "id": "terminal-object",
   "metadata": {
    "execution": {
     "iopub.execute_input": "2021-05-17T21:37:02.058120Z",
     "iopub.status.busy": "2021-05-17T21:37:02.056829Z",
     "iopub.status.idle": "2021-05-17T21:37:14.149466Z",
     "shell.execute_reply": "2021-05-17T21:37:14.148747Z"
    },
    "papermill": {
     "duration": 12.223132,
     "end_time": "2021-05-17T21:37:14.149615",
     "exception": false,
     "start_time": "2021-05-17T21:37:01.926483",
     "status": "completed"
    },
    "tags": []
   },
   "outputs": [],
   "source": [
    "rf_model = rf.fit(X_train, y_train)"
   ]
  },
  {
   "cell_type": "code",
   "execution_count": null,
   "id": "metropolitan-walnut",
   "metadata": {
    "execution": {
     "iopub.execute_input": "2021-05-17T21:37:14.398731Z",
     "iopub.status.busy": "2021-05-17T21:37:14.397754Z",
     "iopub.status.idle": "2021-05-17T21:37:14.448537Z",
     "shell.execute_reply": "2021-05-17T21:37:14.447989Z"
    },
    "papermill": {
     "duration": 0.177529,
     "end_time": "2021-05-17T21:37:14.448695",
     "exception": false,
     "start_time": "2021-05-17T21:37:14.271166",
     "status": "completed"
    },
    "tags": []
   },
   "outputs": [],
   "source": [
    "imp_features = pd.DataFrame(data = rf_model.feature_importances_*100, columns = [\"Importances\"], index = X_train.columns)\n"
   ]
  },
  {
   "cell_type": "code",
   "execution_count": null,
   "id": "collectible-official",
   "metadata": {
    "execution": {
     "iopub.execute_input": "2021-05-17T21:37:14.705161Z",
     "iopub.status.busy": "2021-05-17T21:37:14.704477Z",
     "iopub.status.idle": "2021-05-17T21:37:14.980756Z",
     "shell.execute_reply": "2021-05-17T21:37:14.980083Z"
    },
    "papermill": {
     "duration": 0.410212,
     "end_time": "2021-05-17T21:37:14.980908",
     "exception": false,
     "start_time": "2021-05-17T21:37:14.570696",
     "status": "completed"
    },
    "tags": []
   },
   "outputs": [],
   "source": [
    "imp_features.sort_values(\"Importances\", ascending = False)[:15].plot(kind = \"barh\")\n",
    "plt.xlabel(\"Feature Importances (%)\")"
   ]
  },
  {
   "cell_type": "markdown",
   "id": "balanced-sponsorship",
   "metadata": {
    "papermill": {
     "duration": 0.123577,
     "end_time": "2021-05-17T21:37:15.230118",
     "exception": false,
     "start_time": "2021-05-17T21:37:15.106541",
     "status": "completed"
    },
    "tags": []
   },
   "source": [
    "# Summary\n",
    "* Random Forest Classifier is the best algorithm to predict the cancellation. \n",
    "* It is giving 88% accurate predictions nearly.\n",
    "* Having noted the important features, and their stats for both the groups for these features, a general presiction can also be made reagrding the cancellation\n",
    "* This analysis can help us out in this way."
   ]
  }
 ],
 "metadata": {
  "kernelspec": {
   "display_name": "Python 3 (ipykernel)",
   "language": "python",
   "name": "python3"
  },
  "language_info": {
   "codemirror_mode": {
    "name": "ipython",
    "version": 3
   },
   "file_extension": ".py",
   "mimetype": "text/x-python",
   "name": "python",
   "nbconvert_exporter": "python",
   "pygments_lexer": "ipython3",
   "version": "3.7.10"
  },
  "papermill": {
   "default_parameters": {},
   "duration": 1095.398521,
   "end_time": "2021-05-17T21:37:16.800152",
   "environment_variables": {},
   "exception": null,
   "input_path": "__notebook__.ipynb",
   "output_path": "__notebook__.ipynb",
   "parameters": {},
   "start_time": "2021-05-17T21:19:01.401631",
   "version": "2.3.3"
  }
 },
 "nbformat": 4,
 "nbformat_minor": 5
}
